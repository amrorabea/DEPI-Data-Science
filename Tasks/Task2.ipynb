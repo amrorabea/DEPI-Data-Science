{
 "cells": [
  {
   "cell_type": "markdown",
   "id": "224e1fa9",
   "metadata": {},
   "source": [
    "# Part 1"
   ]
  },
  {
   "cell_type": "code",
   "execution_count": 2,
   "id": "1d9a91e6",
   "metadata": {},
   "outputs": [
    {
     "name": "stdout",
     "output_type": "stream",
     "text": [
      "[1, 2, 3, 4, 5]\n",
      "[8, 9, 10]\n",
      "[3, 4, 5, 6, 7, 8]\n"
     ]
    }
   ],
   "source": [
    "# POINT 1\n",
    "arr = list(range(1, 11))\n",
    "# first point\n",
    "print(arr[:5])\n",
    "# second point\n",
    "print(arr[-3:])\n",
    "# third point\n",
    "print(arr[2:8])"
   ]
  },
  {
   "cell_type": "code",
   "execution_count": 8,
   "id": "fe55442a",
   "metadata": {},
   "outputs": [
    {
     "name": "stdout",
     "output_type": "stream",
     "text": [
      "The list after adding two fruits:  ['Banana', 'Apple', 'Kiwi', 'Grapes', 'Watermelon', 'Mango', 'Avocado']\n",
      "The updated list:  ['Banana', 'Apple', 'Kiwi', 'Grapes', 'Watermelon', 'Mango']\n"
     ]
    }
   ],
   "source": [
    "# POINT 2\n",
    "fruits = [\"Banana\", \"Apple\", \"Kiwi\", \"Grapes\", \"Watermelon\"]\n",
    "# Add two fruits\n",
    "fruits.append(\"Mango\")\n",
    "fruits.append(\"Avocado\")\n",
    "print(\"The list after adding two fruits: \", fruits)\n",
    "# Remove the last fruit\n",
    "fruits.pop()\n",
    "# The updated list\n",
    "print(\"The updated list: \", fruits)"
   ]
  },
  {
   "cell_type": "markdown",
   "id": "3ac7213a",
   "metadata": {},
   "source": [
    "# Part 2"
   ]
  },
  {
   "cell_type": "code",
   "execution_count": 19,
   "id": "89c120c6",
   "metadata": {},
   "outputs": [
    {
     "name": "stdout",
     "output_type": "stream",
     "text": [
      "The second city is Riyadh\n"
     ]
    }
   ],
   "source": [
    "# POINT 1\n",
    "# first point\n",
    "arr = (\"Maadi\", \"Riyadh\", \"NY\", \"Moscow\", \"Istanbul\")\n",
    "# second point\n",
    "print(\"The second city is \" + arr[1])\n",
    "# third point\n",
    "# arr[1] = \"Mokattam\" # This wont work, Tuples cant be changed"
   ]
  },
  {
   "cell_type": "code",
   "execution_count": 27,
   "id": "5b9b6195",
   "metadata": {},
   "outputs": [
    {
     "name": "stdout",
     "output_type": "stream",
     "text": [
      "age is 30\n"
     ]
    }
   ],
   "source": [
    "# POINT 2\n",
    "# first point\n",
    "dic = {\"name\": \"John\", \"age\": 30, \"city\": \"New York\"}\n",
    "# second point\n",
    "print(\"age is \" + str(dic[\"age\"]))\n",
    "# third point\n",
    "dic[\"job\"] = \"Engineer\"\n",
    "# fourth point\n",
    "del dic[\"city\"]"
   ]
  },
  {
   "cell_type": "code",
   "execution_count": 39,
   "id": "88299bc2",
   "metadata": {},
   "outputs": [
    {
     "name": "stdout",
     "output_type": "stream",
     "text": [
      "Name is Ahmed and his age is 30\n",
      "Name is Amro and his age is 21\n",
      "Name is Mohammed and his age is 19\n"
     ]
    }
   ],
   "source": [
    "# POINT 3\n",
    "# first point\n",
    "dic = {\"names\": [\"Ahmed\", \"Amro\", \"Mohammed\"], \"ages\": [30, 21, 19]}\n",
    "for i in range(0, 3):\n",
    "    name = dic[\"names\"][i]\n",
    "    age = dic[\"ages\"][i]\n",
    "    print(f\"Name is {name} and his age is {age}\")"
   ]
  },
  {
   "cell_type": "markdown",
   "id": "83846292",
   "metadata": {},
   "source": [
    "# Part 3"
   ]
  },
  {
   "cell_type": "code",
   "execution_count": 40,
   "id": "7ddfdde4",
   "metadata": {},
   "outputs": [
    {
     "name": "stdout",
     "output_type": "stream",
     "text": [
      "Your age: 20\n",
      "Adult\n"
     ]
    }
   ],
   "source": [
    "# POINT 1\n",
    "age = int(input(\"Your age: \"))\n",
    "if age >= 18:\n",
    "    print(\"Adult\")\n",
    "else:\n",
    "    print(\"Minor\")"
   ]
  },
  {
   "cell_type": "code",
   "execution_count": 43,
   "id": "63276d01",
   "metadata": {},
   "outputs": [
    {
     "name": "stdout",
     "output_type": "stream",
     "text": [
      "Enter a number: 5\n",
      "Odd\n"
     ]
    }
   ],
   "source": [
    "# POINT 2\n",
    "n = int(input(\"Enter a number: \"))\n",
    "if n&1:\n",
    "    print(\"Odd\")\n",
    "else:\n",
    "    print(\"Even\")"
   ]
  },
  {
   "cell_type": "code",
   "execution_count": 44,
   "id": "85aa53b6",
   "metadata": {},
   "outputs": [
    {
     "name": "stdout",
     "output_type": "stream",
     "text": [
      "Enter your score: 90\n",
      "A\n"
     ]
    }
   ],
   "source": [
    "# POINT 3\n",
    "score = int(input(\"Enter your score: \"))\n",
    "if score >= 90:\n",
    "    print(\"A\")\n",
    "elif score >= 70:\n",
    "    print(\"B\")\n",
    "elif score >= 50:\n",
    "    print(\"C\")\n",
    "else:\n",
    "    print(\"F\")"
   ]
  },
  {
   "cell_type": "markdown",
   "id": "1b46abd0",
   "metadata": {},
   "source": [
    "# Part 4"
   ]
  },
  {
   "cell_type": "code",
   "execution_count": 47,
   "id": "836986f9",
   "metadata": {},
   "outputs": [
    {
     "name": "stdout",
     "output_type": "stream",
     "text": [
      "2\n",
      "4\n",
      "6\n",
      "8\n",
      "10\n",
      "12\n",
      "14\n",
      "16\n",
      "18\n",
      "20\n"
     ]
    }
   ],
   "source": [
    "# POINT 1\n",
    "for el in range(2, 21, 2):\n",
    "    print(el)\n",
    "# for el in range(1, 21):\n",
    "#     if not el&1:\n",
    "#         print(el)"
   ]
  },
  {
   "cell_type": "code",
   "execution_count": 48,
   "id": "616d6ec2",
   "metadata": {},
   "outputs": [
    {
     "name": "stdout",
     "output_type": "stream",
     "text": [
      "10\n",
      "9\n",
      "8\n",
      "7\n",
      "6\n",
      "5\n",
      "4\n",
      "3\n",
      "2\n",
      "1\n"
     ]
    }
   ],
   "source": [
    "# POINT 2\n",
    "i = 10\n",
    "while i > 0:\n",
    "    print(i)\n",
    "    i -= 1"
   ]
  },
  {
   "cell_type": "code",
   "execution_count": 50,
   "id": "ab26edd6",
   "metadata": {},
   "outputs": [
    {
     "name": "stdout",
     "output_type": "stream",
     "text": [
      "Enter a number: 5\n",
      "15\n"
     ]
    }
   ],
   "source": [
    "# POINT 3\n",
    "n = int(input(\"Enter a number: \"))\n",
    "res = 0\n",
    "# print(n * (n+1) / 2)\n",
    "for i in range(1, n+1):\n",
    "    res += i\n",
    "print(res)"
   ]
  },
  {
   "cell_type": "markdown",
   "id": "a23e53e2",
   "metadata": {},
   "source": [
    "# Part 5"
   ]
  },
  {
   "cell_type": "code",
   "execution_count": 51,
   "id": "5a2501a8",
   "metadata": {},
   "outputs": [
    {
     "name": "stdout",
     "output_type": "stream",
     "text": [
      "Enter your name: Amro\n",
      "Enter your age: 20\n",
      "Hello, Amro! You are 20 years old.\n"
     ]
    }
   ],
   "source": [
    "# POINT 1\n",
    "name = input(\"Enter your name: \")\n",
    "age = int(input(\"Enter your age: \"))\n",
    "print(f\"Hello, {name}! You are {age} years old.\")"
   ]
  },
  {
   "cell_type": "code",
   "execution_count": 58,
   "id": "d299e62a",
   "metadata": {},
   "outputs": [
    {
     "name": "stdout",
     "output_type": "stream",
     "text": [
      "Enter your fav color: blue\n",
      "You have great taste!\n"
     ]
    }
   ],
   "source": [
    "# POINT 2\n",
    "color = input(\"Enter your fav color: \")\n",
    "if color == \"blue\":\n",
    "    print(\"You have great taste!\")\n",
    "else:\n",
    "    print(\"That's a nice color too!\")"
   ]
  },
  {
   "cell_type": "markdown",
   "id": "0e1e2f4c",
   "metadata": {},
   "source": [
    "# Part 6"
   ]
  },
  {
   "cell_type": "code",
   "execution_count": 4,
   "id": "7b0760ed",
   "metadata": {},
   "outputs": [
    {
     "name": "stdout",
     "output_type": "stream",
     "text": [
      "Enter the number of elements: 3\n",
      "Enter number 1: 100\n",
      "Enter number 2: 200\n",
      "Enter number 3: 300\n",
      "Average is 200.0\n",
      "Max value is 300\n",
      "Min value is 100\n"
     ]
    }
   ],
   "source": [
    "n = int(input(\"Enter the number of elements: \")) \n",
    "arr = []\n",
    "for i in range(n):\n",
    "    x = int(input(f\"Enter number {i+1}: \"))\n",
    "    arr.append(x)\n",
    "avg = 0\n",
    "mn = 1e5\n",
    "mx = -1e5\n",
    "for el in arr:\n",
    "    avg += el\n",
    "    mn = min(mn, el)\n",
    "    mx = max(mx, el)\n",
    "print(f\"Average is {avg/n}\")\n",
    "print(f\"Max value is {mx}\\nMin value is {mn}\")"
   ]
  },
  {
   "cell_type": "code",
   "execution_count": null,
   "id": "8c762b5c",
   "metadata": {},
   "outputs": [],
   "source": []
  }
 ],
 "metadata": {
  "kernelspec": {
   "display_name": "Python 3 (ipykernel)",
   "language": "python",
   "name": "python3"
  },
  "language_info": {
   "codemirror_mode": {
    "name": "ipython",
    "version": 3
   },
   "file_extension": ".py",
   "mimetype": "text/x-python",
   "name": "python",
   "nbconvert_exporter": "python",
   "pygments_lexer": "ipython3",
   "version": "3.11.7"
  }
 },
 "nbformat": 4,
 "nbformat_minor": 5
}
