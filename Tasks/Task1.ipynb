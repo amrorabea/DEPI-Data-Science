{
 "cells": [
  {
   "cell_type": "markdown",
   "id": "a9c521ef",
   "metadata": {},
   "source": [
    "# <font color='blue'>Python basics Exam</font>\n",
    "#### <font color='red'>Description explanation for each problem:</font>\n",
    "1. Section <font color='red'>X</font>: ``MARKDOWN CELL``\n",
    "\n",
    "2. The Quesiton ``CODE CELL``\n",
    "\n",
    "3. The Challenge ``CODE CELL``"
   ]
  },
  {
   "cell_type": "markdown",
   "id": "623688ae",
   "metadata": {},
   "source": [
    "## Section 1:"
   ]
  },
  {
   "cell_type": "code",
   "execution_count": 1,
   "id": "f72ee255",
   "metadata": {
    "scrolled": true
   },
   "outputs": [
    {
     "name": "stdout",
     "output_type": "stream",
     "text": [
      "Hello, Python learners! Today we start our coding journey.\n"
     ]
    }
   ],
   "source": [
    "# Question\n",
    "print(\"Hello, Python learners! Today we start our coding journey.\")"
   ]
  },
  {
   "cell_type": "code",
   "execution_count": 2,
   "id": "98e68e1e",
   "metadata": {},
   "outputs": [
    {
     "name": "stdout",
     "output_type": "stream",
     "text": [
      "\n",
      "My Name: Amro\n",
      "Fav Programming lang: CPP\n",
      "\n"
     ]
    }
   ],
   "source": [
    "# Challenge\n",
    "print(\"\"\"\n",
    "My Name: Amro\n",
    "Fav Programming lang: CPP\n",
    "\"\"\")"
   ]
  },
  {
   "cell_type": "markdown",
   "id": "5ede0f85",
   "metadata": {},
   "source": [
    "## Section 2:"
   ]
  },
  {
   "cell_type": "code",
   "execution_count": 3,
   "id": "62c3a3c0",
   "metadata": {},
   "outputs": [
    {
     "name": "stdout",
     "output_type": "stream",
     "text": [
      "I am 20 years old.\n"
     ]
    }
   ],
   "source": [
    "# Question\n",
    "age = 20\n",
    "print(f\"I am {age} years old.\")"
   ]
  },
  {
   "cell_type": "code",
   "execution_count": 4,
   "id": "f42b96f5",
   "metadata": {},
   "outputs": [
    {
     "name": "stdout",
     "output_type": "stream",
     "text": [
      "Age is 20 and its data type is <class 'int'>\n",
      "Name is Amro and its data type is <class 'str'>\n",
      "Salary is 2000.5 and its data type is <class 'float'>\n"
     ]
    }
   ],
   "source": [
    "# Challenge\n",
    "age = 20\n",
    "salary = 2000.5\n",
    "name = \"Amro\"\n",
    "print(f\"Age is {age} and its data type is {type(age)}\")\n",
    "print(f\"Name is {name} and its data type is {type(name)}\")\n",
    "print(f\"Salary is {salary} and its data type is {type(salary)}\")"
   ]
  },
  {
   "cell_type": "markdown",
   "id": "0a531ccd",
   "metadata": {},
   "source": [
    "## Section 3:"
   ]
  },
  {
   "cell_type": "code",
   "execution_count": 5,
   "id": "d99306b8",
   "metadata": {},
   "outputs": [
    {
     "name": "stdout",
     "output_type": "stream",
     "text": [
      "amazing\n"
     ]
    }
   ],
   "source": [
    "# Question\n",
    "text = \"Python is amazing\"\n",
    "print(text[10:])"
   ]
  },
  {
   "cell_type": "code",
   "execution_count": 6,
   "id": "d4f5218c",
   "metadata": {},
   "outputs": [
    {
     "name": "stdout",
     "output_type": "stream",
     "text": [
      "AMRO RABEA\n"
     ]
    }
   ],
   "source": [
    "# Challenge\n",
    "firstName = \"Amro\".upper()\n",
    "lastName = \"Rabea\".upper()\n",
    "print(f\"{firstName} {lastName}\")"
   ]
  },
  {
   "cell_type": "markdown",
   "id": "b94fa9c4",
   "metadata": {},
   "source": [
    "## Section 4:"
   ]
  },
  {
   "cell_type": "code",
   "execution_count": 7,
   "id": "ac772181",
   "metadata": {},
   "outputs": [
    {
     "name": "stdout",
     "output_type": "stream",
     "text": [
      "Area of the rectangle is 50\n"
     ]
    }
   ],
   "source": [
    "# Question\n",
    "w = 5\n",
    "h = 10\n",
    "print(f\"Area of the rectangle is {w * h}\")"
   ]
  },
  {
   "cell_type": "code",
   "execution_count": 8,
   "id": "0d7ea6c2",
   "metadata": {},
   "outputs": [
    {
     "name": "stdout",
     "output_type": "stream",
     "text": [
      "Addition+ = 27\n",
      "Multiplication* = 140\n",
      "Subtraction- = 13\n",
      "Division/ = 2.857142857142857\n",
      "Mudulo% = 6\n"
     ]
    }
   ],
   "source": [
    "# Challenge\n",
    "a = 20\n",
    "b = 7\n",
    "print(f\"Addition+ = {a + b}\")\n",
    "print(f\"Multiplication* = {a * b}\")\n",
    "print(f\"Subtraction- = {a - b}\")\n",
    "print(f\"Division/ = {a / b}\")\n",
    "print(f\"Mudulo% = {a % b}\")"
   ]
  },
  {
   "cell_type": "markdown",
   "id": "fc6f7dd9",
   "metadata": {},
   "source": [
    "## Section 5:"
   ]
  },
  {
   "cell_type": "code",
   "execution_count": 9,
   "id": "7fae4372",
   "metadata": {},
   "outputs": [
    {
     "name": "stdout",
     "output_type": "stream",
     "text": [
      "Beef\n"
     ]
    }
   ],
   "source": [
    "# Question\n",
    "arr = list([\"Spaghitti\", \"Pizza\", \"Beef\", \"Apples\", \"Tuna\"])\n",
    "print(arr[2])"
   ]
  },
  {
   "cell_type": "code",
   "execution_count": 10,
   "id": "4deafe84",
   "metadata": {},
   "outputs": [
    {
     "name": "stdout",
     "output_type": "stream",
     "text": [
      "Beef\n"
     ]
    }
   ],
   "source": [
    "# Challenge\n",
    "arr = tuple([\"Spaghitti\", \"Pizza\", \"Beef\", \"Apples\", \"Tuna\"])\n",
    "print(arr[2])\n",
    "\n",
    "# arr[2] = \"Example\" # This would cause an error, tuples are immutable"
   ]
  },
  {
   "cell_type": "markdown",
   "id": "0548b09d",
   "metadata": {},
   "source": [
    "##### Observation: ``Tuple values cant be changed thats why the error came in the first place``"
   ]
  },
  {
   "cell_type": "markdown",
   "id": "670f5000",
   "metadata": {},
   "source": [
    "## Section 6:"
   ]
  },
  {
   "cell_type": "code",
   "execution_count": 11,
   "id": "488d407b",
   "metadata": {},
   "outputs": [
    {
     "name": "stdout",
     "output_type": "stream",
     "text": [
      "Python\n"
     ]
    }
   ],
   "source": [
    "# Question\n",
    "sentence = \"Learning Python is fun!\"\n",
    "print(sentence[9:15])"
   ]
  },
  {
   "cell_type": "code",
   "execution_count": 12,
   "id": "879e7bc7",
   "metadata": {},
   "outputs": [
    {
     "data": {
      "text/plain": [
       "'Learning Python is awesome!'"
      ]
     },
     "execution_count": 12,
     "metadata": {},
     "output_type": "execute_result"
    }
   ],
   "source": [
    "# Challenge\n",
    "sentence = \"Learning Python is fun!\"\n",
    "sentence.replace(\"fun\", \"awesome\")"
   ]
  },
  {
   "cell_type": "markdown",
   "id": "da631c37",
   "metadata": {},
   "source": [
    "## Section 7:\n"
   ]
  },
  {
   "cell_type": "code",
   "execution_count": 13,
   "id": "d10a309f",
   "metadata": {},
   "outputs": [
    {
     "data": {
      "text/plain": [
       "{'name': 'Amro', 'age': 20, 'grade': 'A'}"
      ]
     },
     "execution_count": 13,
     "metadata": {},
     "output_type": "execute_result"
    }
   ],
   "source": [
    "# Question\n",
    "student = {\"name\": \"Amro\", \"age\": 20, \"grade\": \"A\"}\n",
    "student"
   ]
  },
  {
   "cell_type": "code",
   "execution_count": 14,
   "id": "8c9edc88",
   "metadata": {},
   "outputs": [
    {
     "data": {
      "text/plain": [
       "{'name': 'Amro', 'age': 20, 'grade': 'A', 'city': 'Cairo'}"
      ]
     },
     "execution_count": 14,
     "metadata": {},
     "output_type": "execute_result"
    }
   ],
   "source": [
    "# Challenge\n",
    "student[\"city\"] = \"Cairo\"\n",
    "student"
   ]
  },
  {
   "cell_type": "markdown",
   "id": "75879dee",
   "metadata": {},
   "source": [
    "## Section 8:"
   ]
  },
  {
   "cell_type": "code",
   "execution_count": 15,
   "id": "6242b7b3",
   "metadata": {},
   "outputs": [
    {
     "name": "stdout",
     "output_type": "stream",
     "text": [
      "Enter the first number: 10\n",
      "Enter the second number: 5\n",
      "Sum: 15\n",
      "Sub: 5\n",
      "Mul: 50\n",
      "Div: 2.0\n"
     ]
    }
   ],
   "source": [
    "# Question\n",
    "x = int(input(\"Enter the first number: \"))\n",
    "y = int(input(\"Enter the second number: \"))\n",
    "print(f\"Sum: {x + y}\")\n",
    "print(f\"Sub: {x - y}\")\n",
    "print(f\"Mul: {x * y}\")\n",
    "print(f\"Div: {x / y}\")"
   ]
  },
  {
   "cell_type": "code",
   "execution_count": 16,
   "id": "e93cdf95",
   "metadata": {},
   "outputs": [
    {
     "name": "stdout",
     "output_type": "stream",
     "text": [
      "Divisible\n"
     ]
    }
   ],
   "source": [
    "# Challenge\n",
    "if x % y == 0:\n",
    "    print(\"Divisible\")\n",
    "else:\n",
    "    print(\"Not Divisible\")"
   ]
  }
 ],
 "metadata": {
  "kernelspec": {
   "display_name": "Python 3 (ipykernel)",
   "language": "python",
   "name": "python3"
  },
  "language_info": {
   "codemirror_mode": {
    "name": "ipython",
    "version": 3
   },
   "file_extension": ".py",
   "mimetype": "text/x-python",
   "name": "python",
   "nbconvert_exporter": "python",
   "pygments_lexer": "ipython3",
   "version": "3.11.7"
  }
 },
 "nbformat": 4,
 "nbformat_minor": 5
}
