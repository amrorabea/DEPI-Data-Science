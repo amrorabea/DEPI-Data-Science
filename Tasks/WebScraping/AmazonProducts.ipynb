{
 "cells": [
  {
   "cell_type": "code",
   "execution_count": 4,
   "id": "63eac0a4",
   "metadata": {
    "ExecuteTime": {
     "end_time": "2024-11-29T17:23:53.231747900Z",
     "start_time": "2024-11-29T17:23:53.224918500Z"
    }
   },
   "outputs": [],
   "source": [
    "from bs4 import BeautifulSoup\n",
    "import requests\n",
    "import pandas as pd\n",
    "import numpy as np"
   ]
  },
  {
   "cell_type": "code",
   "execution_count": 5,
   "id": "8ca27ab4",
   "metadata": {
    "ExecuteTime": {
     "end_time": "2024-11-29T17:23:53.954201500Z",
     "start_time": "2024-11-29T17:23:53.944562600Z"
    }
   },
   "outputs": [],
   "source": [
    "# Function to extract Product Title\n",
    "def get_title(soup):\n",
    "\n",
    "    try:\n",
    "        # Outer Tag Object\n",
    "        title = soup.find(\"span\", attrs={\"id\":'productTitle'})\n",
    "        \n",
    "        # Inner NavigatableString Object\n",
    "        title_value = title.text\n",
    "\n",
    "        # Title as a string value\n",
    "        title_string = title_value.strip()\n",
    "\n",
    "    except AttributeError:\n",
    "        title_string = \"\"\n",
    "\n",
    "    return title_string\n",
    "\n",
    "# Function to extract Product Price\n",
    "def get_price(soup):\n",
    "\n",
    "    try:\n",
    "        price = soup.find(\"span\", attrs={'class':'a-offscreen'}).string.strip()\n",
    "\n",
    "    except AttributeError:\n",
    "\n",
    "        try:\n",
    "            # If there is some deal price\n",
    "            price = soup.find(\"span\", attrs={'id':'priceblock_dealprice'}).string.strip()\n",
    "\n",
    "        except:\n",
    "            price = \"\"\n",
    "\n",
    "    return price\n",
    "\n",
    "# Function to extract Product Rating\n",
    "def get_rating(soup):\n",
    "\n",
    "    try:\n",
    "        rating = soup.find(\"i\", attrs={'class':'a-icon a-icon-star a-star-4-5'}).string.strip()\n",
    "    \n",
    "    except AttributeError:\n",
    "        try:\n",
    "            rating = soup.find(\"span\", attrs={'class':'a-icon-alt'}).string.strip()\n",
    "        except:\n",
    "            rating = \"\"\t\n",
    "\n",
    "    return rating\n",
    "\n",
    "# Function to extract Number of User Reviews\n",
    "def get_review_count(soup):\n",
    "    try:\n",
    "        review_count = soup.find(\"span\", attrs={'id':'acrCustomerReviewText'}).string.strip()\n",
    "\n",
    "    except AttributeError:\n",
    "        review_count = \"\"\t\n",
    "\n",
    "    return review_count\n",
    "\n",
    "# Function to extract Availability Status\n",
    "def get_availability(soup):\n",
    "    try:\n",
    "        available = soup.find(\"div\", attrs={'id':'availability'})\n",
    "        available = available.find(\"span\").string.strip()\n",
    "\n",
    "    except AttributeError:\n",
    "        available = \"Not Available\"\t\n",
    "\n",
    "    return available\n",
    "\n"
   ]
  },
  {
   "cell_type": "code",
   "execution_count": 6,
   "id": "4713b996",
   "metadata": {
    "ExecuteTime": {
     "end_time": "2024-11-29T17:25:00.272455600Z",
     "start_time": "2024-11-29T17:23:54.798219200Z"
    }
   },
   "outputs": [
    {
     "name": "stderr",
     "output_type": "stream",
     "text": [
      "C:\\Users\\amroa\\AppData\\Local\\Temp\\ipykernel_24832\\2470720496.py:42: FutureWarning: A value is trying to be set on a copy of a DataFrame or Series through chained assignment using an inplace method.\n",
      "The behavior will change in pandas 3.0. This inplace method will never work because the intermediate object on which we are setting values always behaves as a copy.\n",
      "\n",
      "For example, when doing 'df[col].method(value, inplace=True)', try using 'df.method({col: value}, inplace=True)' or df[col] = df[col].method(value) instead, to perform the operation inplace on the original object.\n",
      "\n",
      "\n",
      "  amazon_df['title'].replace('', np.nan, inplace=True)\n"
     ]
    }
   ],
   "source": [
    "\n",
    "if __name__ == '__main__':\n",
    "\n",
    "    # add your user agent \n",
    "    HEADERS = ({'User-Agent':'', 'Accept-Language': 'en-US, en;q=0.5'})\n",
    "\n",
    "    # The webpage URL\n",
    "    URL = \"https://www.amazon.com/s?k=playstation+4&ref=nb_sb_noss_2\"\n",
    "\n",
    "    # HTTP Request\n",
    "    webpage = requests.get(URL, headers=HEADERS)\n",
    "\n",
    "    # Soup Object containing all data\n",
    "    soup = BeautifulSoup(webpage.content, \"html.parser\")\n",
    "\n",
    "    # Fetch links as List of Tag Objects\n",
    "    links = soup.find_all(\"a\", attrs={'class':'a-link-normal s-no-outline'})\n",
    "\n",
    "    # Store the links\n",
    "    links_list = []\n",
    "\n",
    "    # Loop for extracting links from Tag Objects\n",
    "    for link in links:\n",
    "            links_list.append(link.get('href'))\n",
    "\n",
    "    d = {\"title\":[], \"price\":[], \"rating\":[], \"reviews\":[],\"availability\":[]}\n",
    "    \n",
    "    # Loop for extracting product details from each link \n",
    "    for link in links_list:\n",
    "        new_webpage = requests.get(\"https://www.amazon.com\" + link, headers=HEADERS)\n",
    "\n",
    "        new_soup = BeautifulSoup(new_webpage.content, \"html.parser\")\n",
    "\n",
    "        # Function calls to display all necessary product information\n",
    "        d['title'].append(get_title(new_soup))\n",
    "        d['price'].append(get_price(new_soup))\n",
    "        d['rating'].append(get_rating(new_soup))\n",
    "        d['reviews'].append(get_review_count(new_soup))\n",
    "        d['availability'].append(get_availability(new_soup))\n",
    "\n",
    "    \n",
    "    amazon_df = pd.DataFrame.from_dict(d)\n",
    "    amazon_df['title'].replace('', np.nan, inplace=True)\n",
    "    amazon_df = amazon_df.dropna(subset=['title'])\n",
    "    amazon_df.to_csv(\"amazon_data.csv\", header=True, index=False)\n"
   ]
  },
  {
   "cell_type": "code",
   "execution_count": 7,
   "id": "db08fbaf",
   "metadata": {
    "ExecuteTime": {
     "end_time": "2024-11-29T17:25:05.022431500Z",
     "start_time": "2024-11-29T17:25:04.999954100Z"
    }
   },
   "outputs": [
    {
     "data": {
      "text/plain": "                                                title    price  \\\n0              Sony Playstation PS4 1TB Black Console  $200.00   \n1   Sony PlayStation 4 Slim 1TB Premium Bundle (Re...  $274.99   \n2   Playstation Sony 4, 500GB Slim System [CUH-221...  $169.00   \n3   PlayStation®4 Console – Call of Duty® Modern W...  $379.92   \n4   PlayStation 4 Slim 500GB Console - Uncharted 4...  $279.99   \n5   PlayStation 4 Slim 1TB Console - Marvel's Spid...  $200.00   \n6   PlayStation 4 Slim 1TB Limited Edition Console...  $339.88   \n7     PlayStation 4 Slim 500GB Console [Discontinued]  $119.75   \n8   Sony PlayStation 4 Pro 1TB Console - Black (PS...  $199.00   \n9   PS4 Controller Charger Dock Station, OIVO 1.8H...   $11.97   \n10  FASIGO PS4 Controller 2 Pack, Wireless PS4 Con...   $25.48   \n11           Star Wars Jedi: Survivor - PlayStation 4   $19.97   \n12    $250 PlayStation Store Gift Card [Digital Code]  $250.00   \n13                    Sonic Frontiers - PlayStation 4   $19.99   \n14                           NBA 2K25 - PlayStation 4   $29.99   \n15  Wuthur PS4 Controller Wireless 2 Pack, Compati...   $27.18   \n16       Sony PlayStation 2 Console - Black (Renewed)  $155.96   \n17            Xbox 360 250GB Slim Console - (Renewed)  $163.99   \n18  PS1/PS2 to HDMI Converter, RGBS & YPbPr Signal...   $20.79   \n19  Turtle Beach Stealth 700 Gen 3 Wireless Multip...  $149.99   \n20  GamingBoy 2 Pack Wireless Controller for PS4, ...   $32.95   \n\n                                         rating          reviews  \\\n0                            4.6 out of 5 stars    1,564 ratings   \n1   Previous page of related Sponsored Products                    \n2                            4.3 out of 5 stars      373 ratings   \n3                            4.5 out of 5 stars      119 ratings   \n4                            4.8 out of 5 stars    6,499 ratings   \n5                            4.6 out of 5 stars    2,821 ratings   \n6                            4.4 out of 5 stars      738 ratings   \n7                            4.5 out of 5 stars    1,913 ratings   \n8                            4.4 out of 5 stars    4,137 ratings   \n9                            4.7 out of 5 stars   39,587 ratings   \n10                           4.2 out of 5 stars      524 ratings   \n11                           4.2 out of 5 stars       16 ratings   \n12                           4.6 out of 5 stars  262,591 ratings   \n13                           4.7 out of 5 stars      975 ratings   \n14                           4.5 out of 5 stars       37 ratings   \n15                           4.2 out of 5 stars      223 ratings   \n16                           4.1 out of 5 stars    1,526 ratings   \n17                           3.8 out of 5 stars      861 ratings   \n18                           4.3 out of 5 stars       19 ratings   \n19                           4.1 out of 5 stars       87 ratings   \n20                           5.0 out of 5 stars        9 ratings   \n\n                           availability  \n0   Only 12 left in stock - order soon.  \n1    Only 2 left in stock - order soon.  \n2    Only 2 left in stock - order soon.  \n3                              In Stock  \n4   Only 12 left in stock - order soon.  \n5                                        \n6    Only 1 left in stock - order soon.  \n7    Only 1 left in stock - order soon.  \n8    Only 5 left in stock - order soon.  \n9                              In Stock  \n10                             In Stock  \n11                             In Stock  \n12                        Available now  \n13                             In Stock  \n14                                       \n15                             In Stock  \n16                                       \n17                                       \n18                             In Stock  \n19                             In Stock  \n20                                       ",
      "text/html": "<div>\n<style scoped>\n    .dataframe tbody tr th:only-of-type {\n        vertical-align: middle;\n    }\n\n    .dataframe tbody tr th {\n        vertical-align: top;\n    }\n\n    .dataframe thead th {\n        text-align: right;\n    }\n</style>\n<table border=\"1\" class=\"dataframe\">\n  <thead>\n    <tr style=\"text-align: right;\">\n      <th></th>\n      <th>title</th>\n      <th>price</th>\n      <th>rating</th>\n      <th>reviews</th>\n      <th>availability</th>\n    </tr>\n  </thead>\n  <tbody>\n    <tr>\n      <th>0</th>\n      <td>Sony Playstation PS4 1TB Black Console</td>\n      <td>$200.00</td>\n      <td>4.6 out of 5 stars</td>\n      <td>1,564 ratings</td>\n      <td>Only 12 left in stock - order soon.</td>\n    </tr>\n    <tr>\n      <th>1</th>\n      <td>Sony PlayStation 4 Slim 1TB Premium Bundle (Re...</td>\n      <td>$274.99</td>\n      <td>Previous page of related Sponsored Products</td>\n      <td></td>\n      <td>Only 2 left in stock - order soon.</td>\n    </tr>\n    <tr>\n      <th>2</th>\n      <td>Playstation Sony 4, 500GB Slim System [CUH-221...</td>\n      <td>$169.00</td>\n      <td>4.3 out of 5 stars</td>\n      <td>373 ratings</td>\n      <td>Only 2 left in stock - order soon.</td>\n    </tr>\n    <tr>\n      <th>3</th>\n      <td>PlayStation®4 Console – Call of Duty® Modern W...</td>\n      <td>$379.92</td>\n      <td>4.5 out of 5 stars</td>\n      <td>119 ratings</td>\n      <td>In Stock</td>\n    </tr>\n    <tr>\n      <th>4</th>\n      <td>PlayStation 4 Slim 500GB Console - Uncharted 4...</td>\n      <td>$279.99</td>\n      <td>4.8 out of 5 stars</td>\n      <td>6,499 ratings</td>\n      <td>Only 12 left in stock - order soon.</td>\n    </tr>\n    <tr>\n      <th>5</th>\n      <td>PlayStation 4 Slim 1TB Console - Marvel's Spid...</td>\n      <td>$200.00</td>\n      <td>4.6 out of 5 stars</td>\n      <td>2,821 ratings</td>\n      <td></td>\n    </tr>\n    <tr>\n      <th>6</th>\n      <td>PlayStation 4 Slim 1TB Limited Edition Console...</td>\n      <td>$339.88</td>\n      <td>4.4 out of 5 stars</td>\n      <td>738 ratings</td>\n      <td>Only 1 left in stock - order soon.</td>\n    </tr>\n    <tr>\n      <th>7</th>\n      <td>PlayStation 4 Slim 500GB Console [Discontinued]</td>\n      <td>$119.75</td>\n      <td>4.5 out of 5 stars</td>\n      <td>1,913 ratings</td>\n      <td>Only 1 left in stock - order soon.</td>\n    </tr>\n    <tr>\n      <th>8</th>\n      <td>Sony PlayStation 4 Pro 1TB Console - Black (PS...</td>\n      <td>$199.00</td>\n      <td>4.4 out of 5 stars</td>\n      <td>4,137 ratings</td>\n      <td>Only 5 left in stock - order soon.</td>\n    </tr>\n    <tr>\n      <th>9</th>\n      <td>PS4 Controller Charger Dock Station, OIVO 1.8H...</td>\n      <td>$11.97</td>\n      <td>4.7 out of 5 stars</td>\n      <td>39,587 ratings</td>\n      <td>In Stock</td>\n    </tr>\n    <tr>\n      <th>10</th>\n      <td>FASIGO PS4 Controller 2 Pack, Wireless PS4 Con...</td>\n      <td>$25.48</td>\n      <td>4.2 out of 5 stars</td>\n      <td>524 ratings</td>\n      <td>In Stock</td>\n    </tr>\n    <tr>\n      <th>11</th>\n      <td>Star Wars Jedi: Survivor - PlayStation 4</td>\n      <td>$19.97</td>\n      <td>4.2 out of 5 stars</td>\n      <td>16 ratings</td>\n      <td>In Stock</td>\n    </tr>\n    <tr>\n      <th>12</th>\n      <td>$250 PlayStation Store Gift Card [Digital Code]</td>\n      <td>$250.00</td>\n      <td>4.6 out of 5 stars</td>\n      <td>262,591 ratings</td>\n      <td>Available now</td>\n    </tr>\n    <tr>\n      <th>13</th>\n      <td>Sonic Frontiers - PlayStation 4</td>\n      <td>$19.99</td>\n      <td>4.7 out of 5 stars</td>\n      <td>975 ratings</td>\n      <td>In Stock</td>\n    </tr>\n    <tr>\n      <th>14</th>\n      <td>NBA 2K25 - PlayStation 4</td>\n      <td>$29.99</td>\n      <td>4.5 out of 5 stars</td>\n      <td>37 ratings</td>\n      <td></td>\n    </tr>\n    <tr>\n      <th>15</th>\n      <td>Wuthur PS4 Controller Wireless 2 Pack, Compati...</td>\n      <td>$27.18</td>\n      <td>4.2 out of 5 stars</td>\n      <td>223 ratings</td>\n      <td>In Stock</td>\n    </tr>\n    <tr>\n      <th>16</th>\n      <td>Sony PlayStation 2 Console - Black (Renewed)</td>\n      <td>$155.96</td>\n      <td>4.1 out of 5 stars</td>\n      <td>1,526 ratings</td>\n      <td></td>\n    </tr>\n    <tr>\n      <th>17</th>\n      <td>Xbox 360 250GB Slim Console - (Renewed)</td>\n      <td>$163.99</td>\n      <td>3.8 out of 5 stars</td>\n      <td>861 ratings</td>\n      <td></td>\n    </tr>\n    <tr>\n      <th>18</th>\n      <td>PS1/PS2 to HDMI Converter, RGBS &amp; YPbPr Signal...</td>\n      <td>$20.79</td>\n      <td>4.3 out of 5 stars</td>\n      <td>19 ratings</td>\n      <td>In Stock</td>\n    </tr>\n    <tr>\n      <th>19</th>\n      <td>Turtle Beach Stealth 700 Gen 3 Wireless Multip...</td>\n      <td>$149.99</td>\n      <td>4.1 out of 5 stars</td>\n      <td>87 ratings</td>\n      <td>In Stock</td>\n    </tr>\n    <tr>\n      <th>20</th>\n      <td>GamingBoy 2 Pack Wireless Controller for PS4, ...</td>\n      <td>$32.95</td>\n      <td>5.0 out of 5 stars</td>\n      <td>9 ratings</td>\n      <td></td>\n    </tr>\n  </tbody>\n</table>\n</div>"
     },
     "execution_count": 7,
     "metadata": {},
     "output_type": "execute_result"
    }
   ],
   "source": [
    "amazon_df"
   ]
  }
 ],
 "metadata": {
  "kernelspec": {
   "display_name": "Python 3",
   "language": "python",
   "name": "python3"
  },
  "language_info": {
   "codemirror_mode": {
    "name": "ipython",
    "version": 3
   },
   "file_extension": ".py",
   "mimetype": "text/x-python",
   "name": "python",
   "nbconvert_exporter": "python",
   "pygments_lexer": "ipython3",
   "version": "3.13.0"
  }
 },
 "nbformat": 4,
 "nbformat_minor": 5
}
