{
 "cells": [
  {
   "cell_type": "code",
   "execution_count": 1,
   "id": "2c5b8ac4",
   "metadata": {},
   "outputs": [],
   "source": [
    "import sqlite3"
   ]
  },
  {
   "cell_type": "code",
   "execution_count": 2,
   "id": "1aee7823",
   "metadata": {},
   "outputs": [],
   "source": [
    "# Create Connection\n",
    "conn = sqlite3.connect('department.db')\n",
    "cursor = conn.cursor()"
   ]
  },
  {
   "cell_type": "code",
   "execution_count": 3,
   "id": "cd353502",
   "metadata": {},
   "outputs": [
    {
     "data": {
      "text/plain": [
       "<sqlite3.Cursor at 0x2336f136d40>"
      ]
     },
     "execution_count": 3,
     "metadata": {},
     "output_type": "execute_result"
    }
   ],
   "source": [
    "cursor.execute(\"\"\"\n",
    "CREATE VIEW vw_employee_details AS\n",
    "SELECT e.first_name, e.last_name, d.name AS department_name\n",
    "FROM employee e\n",
    "JOIN department d ON e.dep_id = d.department_id\n",
    "\"\"\")"
   ]
  },
  {
   "cell_type": "markdown",
   "id": "0877eb71",
   "metadata": {},
   "source": [
    "## TASK 1"
   ]
  },
  {
   "cell_type": "code",
   "execution_count": 11,
   "id": "7b3d6686",
   "metadata": {},
   "outputs": [
    {
     "name": "stdout",
     "output_type": "stream",
     "text": [
      "('Amro', 'Rabea', 'Maadi dep')\n",
      "('Mohammed', 'Gomaa', 'Maadi dep')\n",
      "('Alice', 'Mike', 'Mokattam dep')\n",
      "('Mohanad', 'Rabea', 'Mokattam dep')\n"
     ]
    }
   ],
   "source": [
    "cursor.execute(\"\"\"\n",
    "SELECT * FROM vw_employee_details\n",
    "\"\"\")\n",
    "results = cursor.fetchall()\n",
    "for row in results:\n",
    "    print(row)"
   ]
  },
  {
   "cell_type": "markdown",
   "id": "f8cc0790",
   "metadata": {},
   "source": [
    "## TASK 2"
   ]
  },
  {
   "cell_type": "code",
   "execution_count": 18,
   "id": "455e0dd5",
   "metadata": {},
   "outputs": [
    {
     "name": "stdout",
     "output_type": "stream",
     "text": [
      "('Alice', 'Mike')\n",
      "('Mohanad', 'Rabea')\n"
     ]
    }
   ],
   "source": [
    "# CREATE OR UPDATE is not supported in sqlite3\n",
    "cursor.execute(\"\"\"\n",
    "DROP VIEW IF EXISTS vw_employee_details\n",
    "\"\"\")\n",
    "cursor.execute(\"\"\"\n",
    "CREATE VIEW vw_employee_details AS\n",
    "SELECT employee.first_name, employee.last_name\n",
    "FROM employee\n",
    "WHERE dep_id = 2;\n",
    "\"\"\")\n",
    "cursor.execute(\"\"\"\n",
    "SELECT * FROM vw_employee_details\n",
    "\"\"\")\n",
    "results = cursor.fetchall()\n",
    "for row in results:\n",
    "    print(row)"
   ]
  },
  {
   "cell_type": "markdown",
   "id": "903fab69",
   "metadata": {},
   "source": [
    "## TASK 3"
   ]
  },
  {
   "cell_type": "code",
   "execution_count": 19,
   "id": "e452d120",
   "metadata": {},
   "outputs": [
    {
     "data": {
      "text/plain": [
       "<sqlite3.Cursor at 0x2336f136d40>"
      ]
     },
     "execution_count": 19,
     "metadata": {},
     "output_type": "execute_result"
    }
   ],
   "source": [
    "# Create table employee\n",
    "cursor.execute('''CREATE TABLE IF NOT EXISTS supplier ( \n",
    "    sup_id INTEGER PRIMARY KEY AUTOINCREMENT,\n",
    "    status INTEGER)''')"
   ]
  },
  {
   "cell_type": "code",
   "execution_count": 25,
   "id": "53688218",
   "metadata": {},
   "outputs": [],
   "source": [
    "# Add employees\n",
    "cursor.executemany(\n",
    "    'INSERT INTO supplier (status) VALUES (?)', [\n",
    "    (12, ),\n",
    "    (20, ),\n",
    "    (15, ),\n",
    "    (13, ),\n",
    "])\n",
    "conn.commit()"
   ]
  },
  {
   "cell_type": "code",
   "execution_count": 28,
   "id": "53914276",
   "metadata": {},
   "outputs": [
    {
     "data": {
      "text/plain": [
       "<sqlite3.Cursor at 0x2336f136d40>"
      ]
     },
     "execution_count": 28,
     "metadata": {},
     "output_type": "execute_result"
    }
   ],
   "source": [
    "# WITH CHECK OPTION is not supported also in sqlite3\n",
    "cursor.execute(\"\"\"\n",
    "CREATE VIEW vw_high_status_suppliers AS\n",
    "SELECT *\n",
    "FROM supplier\n",
    "WHERE status > 15\n",
    "\"\"\")"
   ]
  },
  {
   "cell_type": "code",
   "execution_count": 29,
   "id": "7cc1106f",
   "metadata": {},
   "outputs": [
    {
     "name": "stdout",
     "output_type": "stream",
     "text": [
      "(2, 20)\n"
     ]
    }
   ],
   "source": [
    "cursor.execute(\"\"\"\n",
    "SELECT * FROM vw_high_status_suppliers\n",
    "\"\"\")\n",
    "results = cursor.fetchall()\n",
    "for row in results:\n",
    "    print(row)"
   ]
  }
 ],
 "metadata": {
  "kernelspec": {
   "display_name": "Python 3 (ipykernel)",
   "language": "python",
   "name": "python3"
  },
  "language_info": {
   "codemirror_mode": {
    "name": "ipython",
    "version": 3
   },
   "file_extension": ".py",
   "mimetype": "text/x-python",
   "name": "python",
   "nbconvert_exporter": "python",
   "pygments_lexer": "ipython3",
   "version": "3.11.7"
  }
 },
 "nbformat": 4,
 "nbformat_minor": 5
}
