{
 "cells": [
  {
   "cell_type": "code",
   "execution_count": 1,
   "id": "b176870c",
   "metadata": {},
   "outputs": [],
   "source": [
    "import sqlite3"
   ]
  },
  {
   "cell_type": "code",
   "execution_count": 2,
   "id": "b33f65ae",
   "metadata": {},
   "outputs": [],
   "source": [
    "# Create Connection\n",
    "conn = sqlite3.connect('department.db')\n",
    "cursor = conn.cursor()"
   ]
  },
  {
   "cell_type": "code",
   "execution_count": 3,
   "id": "7660958c",
   "metadata": {},
   "outputs": [
    {
     "data": {
      "text/plain": [
       "<sqlite3.Cursor at 0x24a55d071c0>"
      ]
     },
     "execution_count": 3,
     "metadata": {},
     "output_type": "execute_result"
    }
   ],
   "source": [
    "# Create table employee\n",
    "cursor.execute('''CREATE TABLE IF NOT EXISTS employee ( \n",
    "    emp_id INTEGER PRIMARY KEY AUTOINCREMENT, \n",
    "    manager_id INTEGER FORIEGN KEY,\n",
    "    dep_id INTEGER FORIEGN KEY,\n",
    "    first_name TEXT, \n",
    "    last_name TEXT,\n",
    "    salary INTEGER)''')"
   ]
  },
  {
   "cell_type": "code",
   "execution_count": 4,
   "id": "658e8d1d",
   "metadata": {},
   "outputs": [],
   "source": [
    "# Add employees\n",
    "cursor.executemany(\n",
    "    'INSERT INTO employee (first_name, last_name, salary, manager_id, dep_id) VALUES (?, ?, ?, ?, ?)', [\n",
    "    ('Amro', \"Rabea\", 10000, 1, 1),\n",
    "    ('Mohammed', \"Gomaa\", 20000, 105, 1),\n",
    "    ('Alice', 'Mike', 30000, 195, 2),\n",
    "    ('Mohanad', 'Rabea', 40000, 201, 2),\n",
    "])\n",
    "conn.commit()"
   ]
  },
  {
   "cell_type": "markdown",
   "id": "4f59a6e1",
   "metadata": {},
   "source": [
    "## TASK 1"
   ]
  },
  {
   "cell_type": "code",
   "execution_count": 5,
   "id": "b5431f29",
   "metadata": {},
   "outputs": [
    {
     "name": "stdout",
     "output_type": "stream",
     "text": [
      "(1, 'Rabea', 10000)\n",
      "(2, 'Gomaa', 20000)\n",
      "(3, 'Mike', 30000)\n"
     ]
    }
   ],
   "source": [
    "cursor.execute(\"\"\"\n",
    "SELECT emp_id, last_name, salary\n",
    "FROM employee\n",
    "WHERE salary BETWEEN 10000 AND 40000\n",
    "  AND manager_id NOT IN (101, 201);\n",
    "\"\"\")\n",
    "results = cursor.fetchall()\n",
    "for row in results:\n",
    "    print(row)"
   ]
  },
  {
   "cell_type": "markdown",
   "id": "9114592a",
   "metadata": {},
   "source": [
    "## TASK 2"
   ]
  },
  {
   "cell_type": "code",
   "execution_count": 6,
   "id": "32333281",
   "metadata": {},
   "outputs": [
    {
     "data": {
      "text/plain": [
       "<sqlite3.Cursor at 0x24a55d071c0>"
      ]
     },
     "execution_count": 6,
     "metadata": {},
     "output_type": "execute_result"
    }
   ],
   "source": [
    "# Create table employee\n",
    "cursor.execute('''CREATE TABLE IF NOT EXISTS department ( \n",
    "    department_id INTEGER PRIMARY KEY AUTOINCREMENT,\n",
    "    manager_id INTEGER FORIEGN KEY,\n",
    "    name TEXT)''')"
   ]
  },
  {
   "cell_type": "code",
   "execution_count": 7,
   "id": "1996e8b8",
   "metadata": {},
   "outputs": [],
   "source": [
    "# Add employees\n",
    "cursor.executemany(\n",
    "    'INSERT INTO department (manager_id, name) VALUES (?, ?)', [\n",
    "    (1, \"Maadi dep\"),\n",
    "    (2, \"Mokattam dep\"),\n",
    "])\n",
    "conn.commit()"
   ]
  },
  {
   "cell_type": "code",
   "execution_count": 8,
   "id": "efc2c58f",
   "metadata": {},
   "outputs": [
    {
     "name": "stdout",
     "output_type": "stream",
     "text": [
      "('Amro', 'Maadi dep')\n",
      "('Mohammed', 'Maadi dep')\n",
      "('Alice', 'Mokattam dep')\n",
      "('Mohanad', 'Mokattam dep')\n"
     ]
    }
   ],
   "source": [
    "cursor.execute(\"\"\"\n",
    "SELECT e.first_name AS employee_name, d.name AS department_name\n",
    "FROM employee e\n",
    "INNER JOIN department d ON e.dep_id = d.department_id\n",
    "ORDER BY d.name ASC\n",
    "\"\"\")\n",
    "results = cursor.fetchall()\n",
    "for row in results:\n",
    "    print(row)"
   ]
  },
  {
   "cell_type": "markdown",
   "id": "a1542087",
   "metadata": {},
   "source": [
    "## TASK 3"
   ]
  },
  {
   "cell_type": "code",
   "execution_count": 9,
   "id": "2ea4c316",
   "metadata": {},
   "outputs": [
    {
     "name": "stdout",
     "output_type": "stream",
     "text": [
      "(1, 2, 15000.0)\n",
      "(2, 2, 35000.0)\n"
     ]
    }
   ],
   "source": [
    "cursor.execute(\"\"\"\n",
    "SELECT d.department_id, COUNT(e.emp_id), AVG(e.salary)\n",
    "FROM department d\n",
    "JOIN employee e ON e.dep_id = d.department_id\n",
    "GROUP BY d.department_id\n",
    "ORDER BY d.department_id ASC\n",
    "\"\"\")\n",
    "results = cursor.fetchall()\n",
    "for row in results:\n",
    "    print(row)"
   ]
  }
 ],
 "metadata": {
  "kernelspec": {
   "display_name": "Python 3 (ipykernel)",
   "language": "python",
   "name": "python3"
  },
  "language_info": {
   "codemirror_mode": {
    "name": "ipython",
    "version": 3
   },
   "file_extension": ".py",
   "mimetype": "text/x-python",
   "name": "python",
   "nbconvert_exporter": "python",
   "pygments_lexer": "ipython3",
   "version": "3.11.7"
  }
 },
 "nbformat": 4,
 "nbformat_minor": 5
}
